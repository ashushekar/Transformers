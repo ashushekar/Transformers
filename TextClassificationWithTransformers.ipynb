{
 "cells": [
  {
   "cell_type": "code",
   "execution_count": 1,
   "metadata": {},
   "outputs": [
    {
     "name": "stdout",
     "output_type": "stream",
     "text": [
      "WARNING:tensorflow:From <ipython-input-1-8816c77ff564>:3: is_gpu_available (from tensorflow.python.framework.test_util) is deprecated and will be removed in a future version.\n",
      "Instructions for updating:\n",
      "Use `tf.config.list_physical_devices('GPU')` instead.\n",
      "True\n"
     ]
    }
   ],
   "source": [
    "import tensorflow as tf\n",
    "\n",
    "print(tf.test.is_gpu_available())"
   ]
  },
  {
   "cell_type": "markdown",
   "metadata": {},
   "source": [
    "### The Dataset\n",
    "To build our emotion detector we will use a great dataset from an article that explored how emotions are represented in English Twitter messages. \n",
    "\n",
    "Unlike most sentiment analysis datasets that involve just \"positive\" and \"negative\" polarities, this dataset contains six basic emotions: anger, disgust, fear, joy, sadness, and surprise. \n",
    "\n",
    "Given a tweet, our task will be to train a model that can classify it into one of these emotions."
   ]
  },
  {
   "cell_type": "code",
   "execution_count": 2,
   "metadata": {},
   "outputs": [
    {
     "name": "stderr",
     "output_type": "stream",
     "text": [
      "c:\\program files\\python37\\lib\\site-packages\\tqdm\\auto.py:22: TqdmWarning: IProgress not found. Please update jupyter and ipywidgets. See https://ipywidgets.readthedocs.io/en/stable/user_install.html\n",
      "  from .autonotebook import tqdm as notebook_tqdm\n",
      "Using custom data configuration default\n",
      "Reusing dataset emotion (C:\\Users\\ashwi\\.cache\\huggingface\\datasets\\emotion\\default\\0.0.0\\348f63ca8e27b3713b6c04d723efe6d824a56fb3d1449794716c0f0296072705)\n",
      "100%|███████████████████████████████████████████████████████████████████████████████████| 3/3 [00:00<00:00, 335.60it/s]\n"
     ]
    },
    {
     "data": {
      "text/plain": [
       "DatasetDict({\n",
       "    train: Dataset({\n",
       "        features: ['text', 'label'],\n",
       "        num_rows: 16000\n",
       "    })\n",
       "    validation: Dataset({\n",
       "        features: ['text', 'label'],\n",
       "        num_rows: 2000\n",
       "    })\n",
       "    test: Dataset({\n",
       "        features: ['text', 'label'],\n",
       "        num_rows: 2000\n",
       "    })\n",
       "})"
      ]
     },
     "execution_count": 2,
     "metadata": {},
     "output_type": "execute_result"
    }
   ],
   "source": [
    "from datasets import load_dataset \n",
    "emotions = load_dataset(\"emotion\")\n",
    "emotions"
   ]
  },
  {
   "cell_type": "markdown",
   "metadata": {},
   "source": [
    "#### 1. Exploring datasets features"
   ]
  },
  {
   "cell_type": "code",
   "execution_count": 3,
   "metadata": {},
   "outputs": [
    {
     "data": {
      "text/plain": [
       "{'text': 'i didnt feel humiliated', 'label': 0}"
      ]
     },
     "execution_count": 3,
     "metadata": {},
     "output_type": "execute_result"
    }
   ],
   "source": [
    "train_ds = emotions[\"train\"]\n",
    "train_ds[0]"
   ]
  },
  {
   "cell_type": "code",
   "execution_count": 4,
   "metadata": {},
   "outputs": [
    {
     "data": {
      "text/plain": [
       "{'text': Value(dtype='string', id=None),\n",
       " 'label': ClassLabel(num_classes=6, names=['sadness', 'joy', 'love', 'anger', 'fear', 'surprise'], id=None)}"
      ]
     },
     "execution_count": 4,
     "metadata": {},
     "output_type": "execute_result"
    }
   ],
   "source": [
    "# Printing features\n",
    "train_ds.features"
   ]
  },
  {
   "cell_type": "code",
   "execution_count": 5,
   "metadata": {},
   "outputs": [
    {
     "name": "stdout",
     "output_type": "stream",
     "text": [
      "{'text': ['i didnt feel humiliated', 'i can go from feeling so hopeless to so damned hopeful just from being around someone who cares and is awake', 'im grabbing a minute to post i feel greedy wrong', 'i am ever feeling nostalgic about the fireplace i will know that it is still on the property', 'i am feeling grouchy'], 'label': [0, 0, 3, 2, 3]}\n"
     ]
    }
   ],
   "source": [
    "print(train_ds[:5])"
   ]
  },
  {
   "cell_type": "markdown",
   "metadata": {},
   "source": [
    "#### 2. From Datasets to dataframe"
   ]
  },
  {
   "cell_type": "code",
   "execution_count": 6,
   "metadata": {},
   "outputs": [
    {
     "data": {
      "text/html": [
       "<div>\n",
       "<style scoped>\n",
       "    .dataframe tbody tr th:only-of-type {\n",
       "        vertical-align: middle;\n",
       "    }\n",
       "\n",
       "    .dataframe tbody tr th {\n",
       "        vertical-align: top;\n",
       "    }\n",
       "\n",
       "    .dataframe thead th {\n",
       "        text-align: right;\n",
       "    }\n",
       "</style>\n",
       "<table border=\"1\" class=\"dataframe\">\n",
       "  <thead>\n",
       "    <tr style=\"text-align: right;\">\n",
       "      <th></th>\n",
       "      <th>text</th>\n",
       "      <th>label</th>\n",
       "    </tr>\n",
       "  </thead>\n",
       "  <tbody>\n",
       "    <tr>\n",
       "      <td>0</td>\n",
       "      <td>i didnt feel humiliated</td>\n",
       "      <td>0</td>\n",
       "    </tr>\n",
       "    <tr>\n",
       "      <td>1</td>\n",
       "      <td>i can go from feeling so hopeless to so damned...</td>\n",
       "      <td>0</td>\n",
       "    </tr>\n",
       "    <tr>\n",
       "      <td>2</td>\n",
       "      <td>im grabbing a minute to post i feel greedy wrong</td>\n",
       "      <td>3</td>\n",
       "    </tr>\n",
       "    <tr>\n",
       "      <td>3</td>\n",
       "      <td>i am ever feeling nostalgic about the fireplac...</td>\n",
       "      <td>2</td>\n",
       "    </tr>\n",
       "    <tr>\n",
       "      <td>4</td>\n",
       "      <td>i am feeling grouchy</td>\n",
       "      <td>3</td>\n",
       "    </tr>\n",
       "  </tbody>\n",
       "</table>\n",
       "</div>"
      ],
      "text/plain": [
       "                                                text  label\n",
       "0                            i didnt feel humiliated      0\n",
       "1  i can go from feeling so hopeless to so damned...      0\n",
       "2   im grabbing a minute to post i feel greedy wrong      3\n",
       "3  i am ever feeling nostalgic about the fireplac...      2\n",
       "4                               i am feeling grouchy      3"
      ]
     },
     "execution_count": 6,
     "metadata": {},
     "output_type": "execute_result"
    }
   ],
   "source": [
    "import pandas as pd\n",
    "emotions.set_format(type=\"pandas\")\n",
    "df = emotions[\"train\"][:]\n",
    "df.head()"
   ]
  },
  {
   "cell_type": "markdown",
   "metadata": {},
   "source": [
    "The labels are represented as integers, so let’s use the _int2str()_ method of the label feature to create a new column in our\n",
    "DataFrame with the corresponding label names"
   ]
  },
  {
   "cell_type": "code",
   "execution_count": 7,
   "metadata": {},
   "outputs": [
    {
     "data": {
      "text/html": [
       "<div>\n",
       "<style scoped>\n",
       "    .dataframe tbody tr th:only-of-type {\n",
       "        vertical-align: middle;\n",
       "    }\n",
       "\n",
       "    .dataframe tbody tr th {\n",
       "        vertical-align: top;\n",
       "    }\n",
       "\n",
       "    .dataframe thead th {\n",
       "        text-align: right;\n",
       "    }\n",
       "</style>\n",
       "<table border=\"1\" class=\"dataframe\">\n",
       "  <thead>\n",
       "    <tr style=\"text-align: right;\">\n",
       "      <th></th>\n",
       "      <th>text</th>\n",
       "      <th>label</th>\n",
       "      <th>label_name</th>\n",
       "    </tr>\n",
       "  </thead>\n",
       "  <tbody>\n",
       "    <tr>\n",
       "      <td>0</td>\n",
       "      <td>i didnt feel humiliated</td>\n",
       "      <td>0</td>\n",
       "      <td>sadness</td>\n",
       "    </tr>\n",
       "    <tr>\n",
       "      <td>1</td>\n",
       "      <td>i can go from feeling so hopeless to so damned...</td>\n",
       "      <td>0</td>\n",
       "      <td>sadness</td>\n",
       "    </tr>\n",
       "    <tr>\n",
       "      <td>2</td>\n",
       "      <td>im grabbing a minute to post i feel greedy wrong</td>\n",
       "      <td>3</td>\n",
       "      <td>anger</td>\n",
       "    </tr>\n",
       "    <tr>\n",
       "      <td>3</td>\n",
       "      <td>i am ever feeling nostalgic about the fireplac...</td>\n",
       "      <td>2</td>\n",
       "      <td>love</td>\n",
       "    </tr>\n",
       "    <tr>\n",
       "      <td>4</td>\n",
       "      <td>i am feeling grouchy</td>\n",
       "      <td>3</td>\n",
       "      <td>anger</td>\n",
       "    </tr>\n",
       "  </tbody>\n",
       "</table>\n",
       "</div>"
      ],
      "text/plain": [
       "                                                text  label label_name\n",
       "0                            i didnt feel humiliated      0    sadness\n",
       "1  i can go from feeling so hopeless to so damned...      0    sadness\n",
       "2   im grabbing a minute to post i feel greedy wrong      3      anger\n",
       "3  i am ever feeling nostalgic about the fireplac...      2       love\n",
       "4                               i am feeling grouchy      3      anger"
      ]
     },
     "execution_count": 7,
     "metadata": {},
     "output_type": "execute_result"
    }
   ],
   "source": [
    "def label_int2str(row):\n",
    "    return emotions[\"train\"].features[\"label\"].int2str(row)\n",
    "\n",
    "df[\"label_name\"] = df[\"label\"].apply(label_int2str)\n",
    "df.head()"
   ]
  },
  {
   "cell_type": "markdown",
   "metadata": {},
   "source": [
    "#### 3. Looking at the Class Distribution"
   ]
  },
  {
   "cell_type": "code",
   "execution_count": 8,
   "metadata": {},
   "outputs": [
    {
     "data": {
      "text/plain": [
       "<Figure size 640x480 with 1 Axes>"
      ]
     },
     "metadata": {},
     "output_type": "display_data"
    }
   ],
   "source": [
    "import matplotlib.pyplot as plt\n",
    "df[\"label_name\"].value_counts(ascending=True).plot.barh()\n",
    "plt.title(\"Frequency of Classes\")\n",
    "plt.show()"
   ]
  },
  {
   "cell_type": "markdown",
   "metadata": {},
   "source": [
    "In this case, we can see that the dataset is heavily imbalanced; the joy and sadness classes appear frequently, whereas love and surprise are about 5–10 times rarer."
   ]
  },
  {
   "cell_type": "markdown",
   "metadata": {},
   "source": [
    "#### 4. How long are our Tweets?"
   ]
  },
  {
   "cell_type": "code",
   "execution_count": 9,
   "metadata": {},
   "outputs": [
    {
     "name": "stderr",
     "output_type": "stream",
     "text": [
      "c:\\program files\\python37\\lib\\site-packages\\numpy\\core\\_asarray.py:83: VisibleDeprecationWarning: Creating an ndarray from ragged nested sequences (which is a list-or-tuple of lists-or-tuples-or ndarrays with different lengths or shapes) is deprecated. If you meant to do this, you must specify 'dtype=object' when creating the ndarray\n",
      "  return array(a, dtype, copy=False, order=order)\n"
     ]
    },
    {
     "data": {
      "image/png": "[encoded data removed]",
      "text/plain": [
       "<Figure size 432x288 with 1 Axes>"
      ]
     },
     "metadata": {
      "needs_background": "light"
     },
     "output_type": "display_data"
    }
   ],
   "source": [
    "df[\"Words Per Tweet\"] = df[\"text\"].str.split().apply(len)\n",
    "df.boxplot(\"Words Per Tweet\", by=\"label_name\", grid=False, \n",
    "           showfliers=False)\n",
    "plt.suptitle(\"\")\n",
    "plt.xlabel(\"\")\n",
    "plt.show()"
   ]
  },
  {
   "cell_type": "markdown",
   "metadata": {},
   "source": [
    "From the plot we see that for each emotion, most tweets are around 15 words long and the longest tweets are well below DistilBERT's maximum context size. Texts that are longer than a model's context size need to be truncated, which can lead to a loss in performance if the truncated text contains crucial information; in this case, it looks like that won't be an issue."
   ]
  },
  {
   "cell_type": "markdown",
   "metadata": {},
   "source": [
    "#### 5. From Text to Tokens - Sub Word Tokenization"
   ]
  },
  {
   "cell_type": "markdown",
   "metadata": {},
   "source": [
    "There are several subword tokenization algorithms that are commonly used in NLP, but let’s start with WordPiece,5 which is used by the BERT and DistilBERT tokenizers.\n",
    "\n",
    "The easiest way to understand how WordPiece works is to see it in action. Transformers provides a convenient AutoTokenizer class that allows you to quickly load the tokenizer associated with a pretrained model—we just call its from_pretrained()\n",
    "method, providing the ID of a model on the Hub or a local file path. Let’s start by loading the tokenizer for DistilBERT"
   ]
  },
  {
   "cell_type": "code",
   "execution_count": 10,
   "metadata": {},
   "outputs": [],
   "source": [
    "emotions.reset_format()"
   ]
  },
  {
   "cell_type": "code",
   "execution_count": 11,
   "metadata": {},
   "outputs": [],
   "source": [
    "from transformers import AutoTokenizer\n",
    "model_ckpt = \"distilbert-base-uncased\"\n",
    "\n",
    "tokenizer = AutoTokenizer.from_pretrained(model_ckpt)"
   ]
  },
  {
   "cell_type": "code",
   "execution_count": 12,
   "metadata": {},
   "outputs": [
    {
     "name": "stdout",
     "output_type": "stream",
     "text": [
      "{'input_ids': [101, 19204, 6026, 3793, 2003, 1037, 4563, 4708, 1997, 17953, 2361, 1012, 102], 'attention_mask': [1, 1, 1, 1, 1, 1, 1, 1, 1, 1, 1, 1, 1]}\n"
     ]
    }
   ],
   "source": [
    "# Checking with sample\n",
    "text = \"Tokenizing text is a core task of NLP.\"\n",
    "encoded_text = tokenizer(text)\n",
    "print(encoded_text)"
   ]
  },
  {
   "cell_type": "code",
   "execution_count": 13,
   "metadata": {},
   "outputs": [
    {
     "name": "stdout",
     "output_type": "stream",
     "text": [
      "['[CLS]', 'token', '##izing', 'text', 'is', 'a', 'core', 'task', 'of', 'nl', '##p', '.', '[SEP]']\n"
     ]
    }
   ],
   "source": [
    "# Now that we have the input_ids, we can convert them back\n",
    "# into tokens by using the tokenizer’s convert_ids_to_tokens() method\n",
    "tokens = tokenizer.convert_ids_to_tokens(encoded_text.input_ids)\n",
    "print(tokens)"
   ]
  },
  {
   "cell_type": "code",
   "execution_count": 14,
   "metadata": {},
   "outputs": [
    {
     "name": "stdout",
     "output_type": "stream",
     "text": [
      "[CLS] tokenizing text is a core task of nlp. [SEP]\n"
     ]
    }
   ],
   "source": [
    "# The AutoTokenizer class has a convert_tokens_to_string() method for\n",
    "# doing just that, so let’s apply it to our tokens\n",
    "print(tokenizer.convert_tokens_to_string(tokens))"
   ]
  },
  {
   "cell_type": "code",
   "execution_count": 15,
   "metadata": {},
   "outputs": [
    {
     "data": {
      "text/plain": [
       "512"
      ]
     },
     "execution_count": 15,
     "metadata": {},
     "output_type": "execute_result"
    }
   ],
   "source": [
    "tokenizer.model_max_length"
   ]
  },
  {
   "cell_type": "markdown",
   "metadata": {},
   "source": [
    "#### 6. Tokenizing the whole dataset"
   ]
  },
  {
   "cell_type": "code",
   "execution_count": 16,
   "metadata": {},
   "outputs": [
    {
     "name": "stdout",
     "output_type": "stream",
     "text": [
      "{'input_ids': [[101, 1045, 2134, 2102, 2514, 26608, 102, 0, 0, 0, 0, 0, 0, 0, 0, 0, 0, 0, 0, 0, 0, 0, 0], [101, 1045, 2064, 2175, 2013, 3110, 2061, 20625, 2000, 2061, 9636, 17772, 2074, 2013, 2108, 2105, 2619, 2040, 14977, 1998, 2003, 8300, 102]], 'attention_mask': [[1, 1, 1, 1, 1, 1, 1, 0, 0, 0, 0, 0, 0, 0, 0, 0, 0, 0, 0, 0, 0, 0, 0], [1, 1, 1, 1, 1, 1, 1, 1, 1, 1, 1, 1, 1, 1, 1, 1, 1, 1, 1, 1, 1, 1, 1]]}\n"
     ]
    }
   ],
   "source": [
    "def tokenize(batch):\n",
    "    return tokenizer(batch[\"text\"], padding=True, truncation=True)\n",
    "\n",
    "print(tokenize(emotions[\"train\"][:2]))\n"
   ]
  },
  {
   "cell_type": "code",
   "execution_count": 17,
   "metadata": {},
   "outputs": [
    {
     "name": "stderr",
     "output_type": "stream",
     "text": [
      "Loading cached processed dataset at C:\\Users\\ashwi\\.cache\\huggingface\\datasets\\emotion\\default\\0.0.0\\348f63ca8e27b3713b6c04d723efe6d824a56fb3d1449794716c0f0296072705\\cache-08e750aa172d7521.arrow\n",
      "Loading cached processed dataset at C:\\Users\\ashwi\\.cache\\huggingface\\datasets\\emotion\\default\\0.0.0\\348f63ca8e27b3713b6c04d723efe6d824a56fb3d1449794716c0f0296072705\\cache-3fd4a0ccbe7f1846.arrow\n",
      "Loading cached processed dataset at C:\\Users\\ashwi\\.cache\\huggingface\\datasets\\emotion\\default\\0.0.0\\348f63ca8e27b3713b6c04d723efe6d824a56fb3d1449794716c0f0296072705\\cache-88438edd4eb0c795.arrow\n"
     ]
    }
   ],
   "source": [
    "emotions_encoded = emotions.map(tokenize, batched=True, batch_size=None)"
   ]
  },
  {
   "cell_type": "code",
   "execution_count": 18,
   "metadata": {},
   "outputs": [
    {
     "data": {
      "text/plain": [
       "DatasetDict({\n",
       "    train: Dataset({\n",
       "        features: ['text', 'label', 'input_ids', 'attention_mask'],\n",
       "        num_rows: 16000\n",
       "    })\n",
       "    validation: Dataset({\n",
       "        features: ['text', 'label', 'input_ids', 'attention_mask'],\n",
       "        num_rows: 2000\n",
       "    })\n",
       "    test: Dataset({\n",
       "        features: ['text', 'label', 'input_ids', 'attention_mask'],\n",
       "        num_rows: 2000\n",
       "    })\n",
       "})"
      ]
     },
     "execution_count": 18,
     "metadata": {},
     "output_type": "execute_result"
    }
   ],
   "source": [
    "emotions_encoded"
   ]
  },
  {
   "cell_type": "markdown",
   "metadata": {},
   "source": [
    "## Training a Text Classifier"
   ]
  },
  {
   "cell_type": "markdown",
   "metadata": {},
   "source": [
    "### 1. Transformers as feature extractors "
   ]
  },
  {
   "cell_type": "markdown",
   "metadata": {},
   "source": [
    "#### 1.a Using pre-trained model"
   ]
  },
  {
   "cell_type": "code",
   "execution_count": 19,
   "metadata": {},
   "outputs": [
    {
     "name": "stderr",
     "output_type": "stream",
     "text": [
      "Some layers from the model checkpoint at distilbert-base-uncased were not used when initializing TFDistilBertModel: ['activation_13', 'vocab_projector', 'vocab_transform', 'vocab_layer_norm']\n",
      "- This IS expected if you are initializing TFDistilBertModel from the checkpoint of a model trained on another task or with another architecture (e.g. initializing a BertForSequenceClassification model from a BertForPreTraining model).\n",
      "- This IS NOT expected if you are initializing TFDistilBertModel from the checkpoint of a model that you expect to be exactly identical (initializing a BertForSequenceClassification model from a BertForSequenceClassification model).\n",
      "All the layers of TFDistilBertModel were initialized from the model checkpoint at distilbert-base-uncased.\n",
      "If your task is similar to the task the model of the checkpoint was trained on, you can already use TFDistilBertModel for predictions without further training.\n"
     ]
    }
   ],
   "source": [
    "from transformers import TFAutoModel, AutoTokenizer\n",
    "tf_model = TFAutoModel.from_pretrained(model_ckpt)\n",
    "tokenizer = AutoTokenizer.from_pretrained(model_ckpt)"
   ]
  },
  {
   "cell_type": "markdown",
   "metadata": {},
   "source": [
    "#### 1.b Extracting Last hidden states\n",
    "\n",
    "Let's retrieve the last hidden states for a single string. The first thing we need to do is encode the string and convert the tokens to tensors."
   ]
  },
  {
   "cell_type": "code",
   "execution_count": 20,
   "metadata": {},
   "outputs": [
    {
     "data": {
      "text/plain": [
       "{'input_ids': <tf.Tensor: shape=(1, 6), dtype=int32, numpy=array([[ 101, 2023, 2003, 1037, 3231,  102]])>, 'attention_mask': <tf.Tensor: shape=(1, 6), dtype=int32, numpy=array([[1, 1, 1, 1, 1, 1]])>}"
      ]
     },
     "execution_count": 20,
     "metadata": {},
     "output_type": "execute_result"
    }
   ],
   "source": [
    "text = \"this is a test\"\n",
    "inputs = tokenizer(text, return_tensors='tf')\n",
    "inputs"
   ]
  },
  {
   "cell_type": "markdown",
   "metadata": {},
   "source": [
    "As we can see, the resulting tensor has the shape __[batch_size, n_tokens]__. Also with token_ids and attention_mask. Now let us pass our tensors through loaded model."
   ]
  },
  {
   "cell_type": "code",
   "execution_count": 21,
   "metadata": {},
   "outputs": [
    {
     "data": {
      "text/plain": [
       "TFBaseModelOutput(last_hidden_state=<tf.Tensor: shape=(1, 6, 768), dtype=float32, numpy=\n",
       "array([[[-0.15651299, -0.18619648,  0.05277675, ..., -0.11881144,\n",
       "          0.06620621,  0.5470156 ],\n",
       "        [-0.35751376, -0.64835584, -0.06178998, ..., -0.30401963,\n",
       "          0.35076842,  0.52206874],\n",
       "        [-0.27718487, -0.44594443,  0.18184263, ..., -0.0947793 ,\n",
       "         -0.00757531,  0.9958287 ],\n",
       "        [-0.28408554, -0.39167657,  0.37525558, ..., -0.21505763,\n",
       "         -0.11725216,  1.0526482 ],\n",
       "        [ 0.26608223, -0.5093635 , -0.31801343, ..., -0.42029822,\n",
       "          0.01444213, -0.21489497],\n",
       "        [ 0.9440607 ,  0.01117252, -0.47139427, ...,  0.14394698,\n",
       "         -0.7287834 , -0.16194956]]], dtype=float32)>, hidden_states=None, attentions=None)"
      ]
     },
     "execution_count": 21,
     "metadata": {},
     "output_type": "execute_result"
    }
   ],
   "source": [
    "outputs = tf_model(inputs)\n",
    "outputs"
   ]
  },
  {
   "cell_type": "markdown",
   "metadata": {},
   "source": [
    "Depending on the model configuration, the output can contain several objects, such as the hidden states, losses, or attentions, arranged in a class similar to a namedtuple in Python. In our example, the model output is an instance of *TFBaseModelOutput*, and we can simply access its attributes by name. The current model returns only one attribute, which is the last hidden state, so let's examine its shape."
   ]
  },
  {
   "cell_type": "code",
   "execution_count": 22,
   "metadata": {},
   "outputs": [
    {
     "data": {
      "text/plain": [
       "TensorShape([1, 6, 768])"
      ]
     },
     "execution_count": 22,
     "metadata": {},
     "output_type": "execute_result"
    }
   ],
   "source": [
    "outputs.last_hidden_state.shape"
   ]
  },
  {
   "cell_type": "code",
   "execution_count": 23,
   "metadata": {},
   "outputs": [
    {
     "data": {
      "text/plain": [
       "array([[-1.56512991e-01, -1.86196476e-01,  5.27767539e-02,\n",
       "        -1.06344096e-01, -1.31630450e-02, -2.69438088e-01,\n",
       "         9.22704265e-02,  1.58652991e-01, -9.86747146e-02,\n",
       "        -2.95723021e-01, -1.37878537e-01, -3.80611047e-02,\n",
       "        -5.36171608e-02,  1.30451858e-01,  3.97127047e-02,\n",
       "         8.68933201e-02,  2.50872951e-02,  8.61766189e-03,\n",
       "         2.52425790e-01, -1.36781394e-01, -1.21373191e-01,\n",
       "        -1.38957813e-01, -1.34264618e-01, -9.08443928e-02,\n",
       "         3.05090286e-02, -3.86193842e-02,  1.14854760e-01,\n",
       "        -5.79964891e-02,  1.01310469e-01,  9.79197696e-02,\n",
       "         3.87415104e-03,  1.19504705e-01, -6.63390458e-02,\n",
       "        -2.12572273e-02,  1.30903602e-01,  2.65197791e-02,\n",
       "         2.36243844e-01,  5.02196774e-02,  1.35027207e-02,\n",
       "        -2.13794671e-02, -8.83227289e-02, -9.83602405e-02,\n",
       "         2.26749331e-01, -2.49400511e-02, -1.62608624e-01,\n",
       "        -8.37871134e-02, -1.96290493e+00, -1.45407200e-01,\n",
       "        -1.55823201e-01, -3.54869485e-01, -4.59712371e-02,\n",
       "         2.00344011e-01,  1.30797960e-02,  4.96498287e-01,\n",
       "         1.05871014e-01,  1.20797724e-01, -1.91178679e-01,\n",
       "         3.82802546e-01,  1.71205942e-02, -1.66275948e-02,\n",
       "         2.15249315e-01,  4.43808511e-02,  3.93334776e-03,\n",
       "         3.54163386e-02,  1.22379825e-01,  2.14587957e-01,\n",
       "         1.50145208e-02,  2.37292480e-02, -2.00371891e-01,\n",
       "         2.94821858e-01, -4.01113778e-01, -1.58269167e-01,\n",
       "        -1.83783472e-03,  9.33036208e-02, -3.38790342e-02,\n",
       "        -1.52648702e-01, -1.52215660e-02,  4.11150344e-02,\n",
       "        -9.38049778e-02,  7.32346624e-02, -2.69777775e-02,\n",
       "         2.35173628e-01,  1.95664868e-01, -9.43969786e-02,\n",
       "         1.56160057e-01,  8.46216977e-02, -9.83480662e-02,\n",
       "         1.04308175e-02,  2.05745474e-02,  5.49932241e-01,\n",
       "        -4.99893427e-02,  1.11816160e-01, -5.67229018e-02,\n",
       "         1.09381735e-01,  2.42152020e-01, -3.10202867e-01,\n",
       "         9.07878429e-02, -1.37814924e-01,  3.62127721e-01,\n",
       "         2.09960967e-01, -4.68776263e-02, -4.42435503e-01,\n",
       "         1.09900400e-01, -2.83085048e-01,  1.17673218e-01,\n",
       "        -2.17608690e-01, -3.61129306e-02,  1.48392022e-02,\n",
       "        -8.40583667e-02, -2.63641238e+00,  1.84711725e-01,\n",
       "         2.35295102e-01, -7.05718249e-03, -3.14325571e-01,\n",
       "        -1.70302242e-01,  3.73699695e-01,  1.57469928e-01,\n",
       "         6.31973892e-02,  1.60100728e-01,  7.49001130e-02,\n",
       "        -3.02336991e-01,  6.04118705e-01, -1.07164308e-03,\n",
       "         1.24615878e-02,  1.31541118e-03,  3.22609603e-01,\n",
       "         1.51193321e-01,  1.84432358e-01, -1.83069706e-03,\n",
       "         5.52419499e-02,  1.72488660e-01,  3.66441190e-01,\n",
       "         2.72581309e-01, -1.27200084e-02, -3.08676004e-01,\n",
       "        -1.12462565e-02, -1.07108384e-01, -9.71860364e-02,\n",
       "        -3.26712340e-01,  4.64467928e-02, -1.58922166e-01,\n",
       "        -3.53224687e-02, -2.96208668e+00,  2.89530635e-01,\n",
       "         3.56262594e-01, -2.30082199e-02, -2.38577589e-01,\n",
       "        -2.58657962e-01,  1.09318212e-01,  2.44082227e-01,\n",
       "         3.10924333e-02,  3.70527625e-01, -2.85381466e-01,\n",
       "         1.43990159e-01, -2.20062673e-01, -5.57417870e-02,\n",
       "        -1.04056016e-01, -3.42344726e-03, -1.14063106e-01,\n",
       "         9.16262493e-02,  1.73794389e-01, -4.39606830e-02,\n",
       "        -6.40878528e-02, -1.40914679e-01,  3.64982896e-03,\n",
       "        -5.35137951e-06,  3.15009683e-01,  2.06125394e-01,\n",
       "         1.19814157e-01,  1.34923518e-01, -1.66329041e-01,\n",
       "        -2.48666108e-01,  1.04328677e-01,  1.82413757e-01,\n",
       "         4.41735536e-02, -1.45883530e-01, -4.63148355e-02,\n",
       "         7.34826475e-02,  2.12786466e-01, -7.27702752e-02,\n",
       "        -5.07326722e-02,  3.87022167e-01,  6.87658712e-02,\n",
       "         8.37921053e-02,  7.66949281e-02, -8.91747475e-02,\n",
       "         3.36216360e-01, -2.08374083e-01, -9.83604044e-03,\n",
       "         2.22847015e-01, -2.09229030e-02, -6.22995496e-02,\n",
       "         1.13792419e-01, -1.53663144e-01,  3.20896685e-01,\n",
       "         9.95408148e-02, -7.01045543e-02, -3.56783152e-01,\n",
       "         2.70382613e-02,  1.23853944e-01, -1.08807564e-01,\n",
       "        -1.26558263e-02,  2.46746130e-02,  1.67255513e-02,\n",
       "        -5.35979122e-03,  3.70467067e+00,  1.25505447e-01,\n",
       "        -1.09183393e-01,  1.56298950e-01,  7.89010674e-02,\n",
       "        -5.07349670e-02,  2.70439357e-01, -1.02253176e-01,\n",
       "        -2.67423838e-01,  2.87231445e-01, -1.89794265e-02,\n",
       "         4.75037098e-02,  1.25394747e-01,  3.65126878e-01,\n",
       "        -1.06062211e-01,  3.50532740e-01,  7.49466270e-02,\n",
       "        -9.57332924e-03,  2.48675793e-01, -1.36988789e-01,\n",
       "         2.49590755e-01,  2.04883665e-01,  1.86585829e-01,\n",
       "         3.28458250e-01, -1.18784916e+00, -3.77116613e-02,\n",
       "        -7.98785686e-02,  9.10557508e-02,  3.39209497e-01,\n",
       "        -4.89103869e-02,  9.24580842e-02,  1.42218798e-01,\n",
       "         9.75430384e-03,  1.42071784e-01,  4.23571933e-03,\n",
       "        -4.31882143e-02,  4.04598385e-01,  5.87084442e-02,\n",
       "         1.86714783e-01, -2.07971498e-01,  6.55740201e-02,\n",
       "         3.60670984e-02,  7.84542412e-03,  6.99466392e-02,\n",
       "        -1.37071133e-01,  3.58338691e-02, -1.17065147e-01,\n",
       "        -7.87823349e-02, -2.12603033e-01, -8.86037052e-02,\n",
       "        -1.08141243e-01,  2.12541856e-02,  1.71525609e-02,\n",
       "        -1.45293370e-01,  2.46245489e-01, -3.44436020e-01,\n",
       "        -1.48412198e-01,  8.29086155e-02,  8.17402825e-02,\n",
       "        -2.06704110e-01, -1.93922788e-01, -1.67272568e-01,\n",
       "         9.34861042e-03,  1.43531978e-01,  1.12027243e-01,\n",
       "        -6.96464702e-02, -3.69136691e-01, -3.07337999e-01,\n",
       "        -4.29051781e+00, -3.33932042e-02, -5.18382639e-02,\n",
       "         1.26145035e-01,  4.35012698e-01, -2.31110990e-01,\n",
       "         2.61146307e-01,  2.06274629e-01,  2.33933687e-01,\n",
       "        -2.12748513e-01,  3.50952357e-01,  1.08362839e-01,\n",
       "        -3.65647897e-02,  1.50571063e-01, -3.90176922e-01,\n",
       "         1.95194602e-01, -8.26386958e-02, -2.14180142e-01,\n",
       "         1.66682661e-01, -1.01794571e-01, -1.49710625e-01,\n",
       "         3.91280413e-01, -5.37185334e-02,  4.63209860e-03,\n",
       "        -7.81202838e-02, -2.83646472e-02, -2.53127933e-01,\n",
       "        -1.41419068e-01, -2.65928060e-02, -1.42387003e-01,\n",
       "        -1.96662042e-02, -1.51553050e-01,  3.36052477e-02,\n",
       "        -1.01594552e-01, -2.24509835e-01, -2.25710177e+00,\n",
       "        -6.79690242e-02, -4.95257182e-03, -7.35739917e-02,\n",
       "        -2.12572776e-02, -7.45456442e-02,  1.99951202e-01,\n",
       "        -7.29704127e-02, -2.40538403e-01,  6.67748079e-02,\n",
       "        -6.23961538e-02, -8.05968121e-02, -2.15455815e-01,\n",
       "         2.36286908e-01,  3.71875286e-01,  1.06140256e-01,\n",
       "         1.04661159e-01,  5.28060161e-02,  2.78064221e-01,\n",
       "         2.63892949e-01, -9.26749781e-02,  1.25146471e-03,\n",
       "        -1.81383103e-01, -1.74557239e-01, -9.29953456e-02,\n",
       "         2.27754086e-01, -3.53183985e-01,  1.49162374e-02,\n",
       "        -1.95779383e-01, -1.41042143e-01, -3.41885984e-02,\n",
       "        -2.16469318e-01,  9.04124677e-02, -2.45721072e-01,\n",
       "        -2.01303184e-01, -1.10213824e-01, -1.16842166e-02,\n",
       "         1.37211695e-01,  3.89519155e-01, -4.88664862e-03,\n",
       "        -2.70526350e-01,  6.34090185e-01,  2.01995507e-01,\n",
       "         1.48724154e-01,  4.64911796e-02,  1.06272869e-01,\n",
       "         1.07222185e-01, -1.53614700e-01, -8.68691951e-02,\n",
       "         1.33687750e-01, -1.97133526e-01,  1.40384763e-01,\n",
       "         1.03153217e+00, -1.86853468e-01,  2.60501280e-02,\n",
       "        -1.96595669e-01,  2.57778496e-01,  6.69293106e-04,\n",
       "         2.00693205e-01,  2.27549881e-01,  3.42782557e-01,\n",
       "        -1.55757681e-01,  2.50179619e-01, -1.38930649e-01,\n",
       "        -1.18178979e-01, -2.07921728e-01,  1.03858009e-01,\n",
       "        -3.45005751e-01,  1.23414770e-01, -8.84227082e-02,\n",
       "        -3.18161324e-02,  1.46759331e-01, -4.90189418e-02,\n",
       "        -7.05146015e-01, -2.74588972e-01, -1.49465457e-01,\n",
       "        -1.41075358e-01,  1.63740367e-02,  1.12977318e-01,\n",
       "        -2.60834321e-02, -2.56268620e-01, -6.14200160e-02,\n",
       "        -8.47226530e-02,  2.48764142e-01,  3.61160859e-02,\n",
       "        -9.27669927e-03, -5.18156290e-02,  1.55896202e-01,\n",
       "        -3.56901526e-01,  3.19413207e-02,  1.97648779e-02,\n",
       "         3.45982850e-01,  1.55369908e-01,  1.60954639e-01,\n",
       "         6.00669309e-02, -5.37501797e-02,  2.33306840e-01,\n",
       "        -7.61748016e-01,  1.71234071e-01, -2.65022218e-01,\n",
       "        -2.86828876e-02, -3.02222610e-01, -1.80180565e-01,\n",
       "         5.20086661e-02, -1.66307524e-01, -2.89730597e-02,\n",
       "        -2.57466793e-01,  3.86508614e-01,  1.45332247e-01,\n",
       "         2.59436965e-01,  1.58102155e-01,  1.92885801e-01,\n",
       "        -4.07675430e-02,  2.21578926e-02,  7.27752924e-01,\n",
       "         2.62966543e-01, -2.06893146e-01,  1.49732426e-01,\n",
       "         1.87346011e-01, -9.35579930e-03,  1.63382664e-01,\n",
       "         1.45805314e-01, -6.76982254e-02, -1.47637844e-01,\n",
       "        -1.86878860e-01,  3.81282717e-03,  7.29771480e-02,\n",
       "        -1.55117333e-01, -2.10368067e-01,  1.34825213e-02,\n",
       "        -7.30820931e-03,  2.61903822e-01, -2.08570033e-01,\n",
       "        -4.52531815e-01, -7.38219917e-03, -8.44646841e-02,\n",
       "        -6.07314333e-02,  5.30259728e-01,  3.25255305e-01,\n",
       "         2.28500199e-02,  4.44671422e-01,  3.07292700e-01,\n",
       "        -1.15059398e-01,  2.04963446e-01, -6.30916208e-02,\n",
       "         2.02445313e-01,  6.38649762e-02, -3.80612127e-02,\n",
       "        -2.70483494e-02,  2.49939799e-01,  2.12933078e-01,\n",
       "        -2.72877514e-01,  1.53561339e-01, -1.47765607e-01,\n",
       "         5.56199551e-02, -1.91330463e-02,  6.55991510e-02,\n",
       "        -6.88737482e-02,  7.61364177e-02, -5.07777557e-02,\n",
       "         2.49436609e-02,  2.30639637e-01, -1.22614181e+00,\n",
       "        -1.16380807e-02,  2.45350003e-01,  8.69966894e-02,\n",
       "        -8.54306221e-02,  3.50669324e-02, -7.73572922e-02,\n",
       "         4.24373329e-01, -5.91868684e-02, -1.03231199e-01,\n",
       "         1.95926912e-02,  6.77969828e-02,  2.85659153e-02,\n",
       "        -2.21271813e-03,  8.85758474e-02, -4.62792814e-05,\n",
       "         1.91132903e-01, -5.62784746e-02,  1.14288047e-01,\n",
       "         3.14750001e-02, -7.74067864e-02,  2.71634161e-01,\n",
       "         7.27010220e-02, -1.82059422e-01, -1.30568460e-01,\n",
       "        -5.03896736e-04, -1.21330284e-01,  2.49683440e-01,\n",
       "         1.45981908e-01,  5.79167157e-03,  1.16304681e-01,\n",
       "        -2.10376725e-01, -4.67184186e-01, -6.31338507e-02,\n",
       "         4.45397794e-02, -1.21245980e-02,  3.70445289e-02,\n",
       "         8.51916149e-03,  2.30124325e-01,  2.32664838e-01,\n",
       "        -3.67077321e-01,  1.65621638e-01,  7.57680088e-02,\n",
       "        -7.79233687e-03,  1.51688129e-01,  2.12953359e-01,\n",
       "        -2.66396135e-01,  4.05045599e-02, -1.13858379e-01,\n",
       "        -2.28461206e-01, -1.03326887e-01, -3.10936987e-01,\n",
       "        -2.14795917e-01, -9.41048190e-02,  8.64683017e-02,\n",
       "        -4.39939648e-02,  1.02307960e-01, -8.40058401e-02,\n",
       "        -1.30899891e-01, -1.15084782e-01,  3.19424957e-01,\n",
       "        -1.53373197e-01,  4.18163687e-02,  1.75154746e-01,\n",
       "        -2.09360838e-01, -8.16710532e-01,  4.96235490e-03,\n",
       "        -1.89856477e-02, -1.17142811e-01,  8.77793878e-02,\n",
       "         1.49613187e-01, -1.09662957e-01, -1.05508670e-01,\n",
       "        -2.48236075e-01, -3.68942231e-01,  1.87415183e-01,\n",
       "        -1.45417169e-01, -1.59074992e-01,  6.72219470e-02,\n",
       "        -1.02297775e-01, -7.68067641e-03, -2.19177261e-01,\n",
       "        -1.28857672e-01,  7.59778619e-02,  1.63761258e-01,\n",
       "         6.08109683e-02, -4.80504707e-02,  3.07564475e-02,\n",
       "        -1.69624873e-02,  1.20960996e-01, -2.36214742e-01,\n",
       "        -3.67427897e-03,  3.49420786e-01,  1.94100618e-01,\n",
       "         3.16463709e-01, -1.46692604e-01,  1.41048238e-01,\n",
       "         3.12079303e-02,  7.89159462e-02, -1.92252144e-01,\n",
       "        -7.72515386e-02,  2.22139552e-01,  1.01638027e-03,\n",
       "         1.84660017e-01,  7.18331784e-02,  2.64355749e-01,\n",
       "         2.68264771e-01,  1.35919034e-01, -2.17964977e-01,\n",
       "        -1.67056233e-01,  1.33751854e-02,  2.14781612e-01,\n",
       "         1.32759631e-01, -9.84658897e-02,  1.17308639e-01,\n",
       "         6.86771125e-02,  9.05665308e-02,  8.69235694e-02,\n",
       "         2.21212006e+00,  2.34187305e-01,  4.62507010e-02,\n",
       "         8.46232921e-02,  1.00937501e-01,  2.72460192e-01,\n",
       "         6.38961717e-02,  1.67219609e-01, -1.52847432e-02,\n",
       "         1.61848456e-01, -1.71566367e-01,  1.47906691e-03,\n",
       "        -1.90850601e-01,  7.59004205e-02,  1.10111743e-01,\n",
       "         1.28166556e-01,  2.78925151e-03,  9.58999153e-03,\n",
       "        -3.68764997e-01, -1.18364587e-01, -2.78711677e-01,\n",
       "         3.68218064e-01,  2.22096622e-01,  1.14804238e-01,\n",
       "        -6.70325682e-02,  1.91502050e-01,  2.24729672e-01,\n",
       "        -3.33941653e-02, -1.56347491e-02, -1.47562310e-01,\n",
       "         1.34890955e-02,  2.43685529e-01,  2.15642173e-02,\n",
       "         1.75168097e-01, -2.16297165e-01, -1.40896291e-01,\n",
       "         1.00524411e-01, -3.90135407e-01, -6.28297180e-02,\n",
       "         5.57979196e-02, -3.35141793e-02, -3.73677075e-01,\n",
       "         3.94871324e-01, -1.89479023e-01, -1.25722468e-01,\n",
       "         3.52029204e-01, -1.88740212e-02, -1.56786203e-01,\n",
       "         9.31296870e-03,  5.39818555e-02,  2.03256175e-01,\n",
       "         6.78302869e-02, -1.54590979e-02,  2.07343042e-01,\n",
       "        -1.96032509e-01, -9.66265425e-02,  1.41662344e-01,\n",
       "        -2.12755464e-02,  5.14873378e-02,  1.44685626e-01,\n",
       "         1.25458837e-03,  1.31079227e-01,  1.60949484e-01,\n",
       "         1.05915137e-01,  5.92944734e-02,  4.58362661e-02,\n",
       "        -1.41501397e-01,  1.78244919e-01, -2.57376164e-01,\n",
       "         1.71064004e-01, -1.37291960e-02,  9.62268934e-02,\n",
       "         1.31970942e-01,  2.07389265e-01,  2.09069416e-01,\n",
       "         3.96397822e-02,  3.68741333e-01,  1.44752428e-01,\n",
       "        -8.95635337e-02, -2.84062338e+00,  2.45729715e-01,\n",
       "         1.15328975e-01,  2.27865905e-01,  5.03086671e-02,\n",
       "         2.63450235e-01,  1.47825018e-01, -2.56315283e-02,\n",
       "         2.78311409e-02, -6.01500310e-02,  1.15713179e-01,\n",
       "         2.07003176e-01,  2.91776747e-01,  5.77748828e-02,\n",
       "         2.40753859e-01,  1.20625712e-01,  8.95192027e-02,\n",
       "        -1.38056204e-01,  8.74368846e-02, -8.61272961e-02,\n",
       "        -3.05865735e-01,  1.56904131e-01,  1.30572021e-01,\n",
       "        -5.86901233e-02, -3.59173566e-01, -1.20317966e-01,\n",
       "        -1.07810840e-01,  1.19558293e-02,  1.30006343e-01,\n",
       "        -1.70641318e-02, -1.32278904e-01,  1.91397607e-01,\n",
       "        -9.48297977e-02,  1.38676181e-01,  2.31518261e-02,\n",
       "        -6.35461137e-02,  6.98545575e-02, -2.35549286e-01,\n",
       "         1.52874470e-01,  3.84010077e-01, -2.28203595e-01,\n",
       "         3.41898531e-01, -1.77428663e-01,  1.71651900e-01,\n",
       "        -2.34396532e-01, -4.63873297e-02,  3.11704904e-01,\n",
       "        -1.30295068e-01,  4.76297766e-01, -3.23734432e-01,\n",
       "        -1.45252332e-01,  2.87508070e-01,  4.57929671e-02,\n",
       "         4.56198826e-02,  1.26121223e-01, -1.04416281e-01,\n",
       "         1.06848150e-01, -5.90448752e-02, -8.47824663e-02,\n",
       "        -1.06551170e-01, -3.33196856e-02, -2.20470786e-01,\n",
       "        -9.31841731e-02, -1.27640814e-01,  2.13108242e-01,\n",
       "         1.09206885e-05, -6.18555769e-02,  1.62222505e-01,\n",
       "        -1.70508027e-01, -5.35833463e-02, -1.08787239e-01,\n",
       "         5.11601195e-02,  1.13014936e-01,  1.68156371e-01,\n",
       "         2.47994944e-01, -2.60113664e-02,  1.62269354e-01,\n",
       "         3.34062696e-01,  5.34242019e-02,  1.63698778e-01,\n",
       "         3.56430672e-02, -3.63884568e-01,  6.76405281e-02,\n",
       "         8.74862075e-04,  3.03296477e-01, -8.11906815e+00,\n",
       "        -1.51685148e-01, -2.46371418e-01, -1.95274442e-01,\n",
       "        -7.78707862e-03, -1.39635965e-01,  7.63162598e-02,\n",
       "        -1.07916236e-01,  1.18920907e-01, -2.06123799e-01,\n",
       "        -7.32536241e-02,  1.63540527e-01, -7.96800256e-02,\n",
       "        -1.18811443e-01,  6.62062094e-02,  5.47015607e-01]], dtype=float32)"
      ]
     },
     "execution_count": 23,
     "metadata": {},
     "output_type": "execute_result"
    }
   ],
   "source": [
    "outputs.last_hidden_state[:, 0].numpy()"
   ]
  },
  {
   "cell_type": "markdown",
   "metadata": {},
   "source": [
    "Looking at the hidden state tensor, we see that it has the shape [batch_size, n_tokens, hidden_dim]. In other words, a 768-dimensional vector is returned for each of the 6 input tokens. Now we know how to get the last hidden state for a single string; let's do the same for the whole dataset by creating a new *hidden_state* column that stores all these vectors. As we did with the tokenizer, we'll use the map() method of DatasetDict to extract all the hidden states in one go. The first thing we need to do is wrap the previous steps in a processing function."
   ]
  },
  {
   "cell_type": "code",
   "execution_count": 24,
   "metadata": {},
   "outputs": [
    {
     "data": {
      "text/plain": [
       "DatasetDict({\n",
       "    train: Dataset({\n",
       "        features: ['text', 'label', 'input_ids', 'attention_mask'],\n",
       "        num_rows: 16000\n",
       "    })\n",
       "    validation: Dataset({\n",
       "        features: ['text', 'label', 'input_ids', 'attention_mask'],\n",
       "        num_rows: 2000\n",
       "    })\n",
       "    test: Dataset({\n",
       "        features: ['text', 'label', 'input_ids', 'attention_mask'],\n",
       "        num_rows: 2000\n",
       "    })\n",
       "})"
      ]
     },
     "execution_count": 24,
     "metadata": {},
     "output_type": "execute_result"
    }
   ],
   "source": [
    "emotions_encoded"
   ]
  },
  {
   "cell_type": "code",
   "execution_count": 25,
   "metadata": {},
   "outputs": [
    {
     "name": "stderr",
     "output_type": "stream",
     "text": [
      "100%|████████████████████████████████████████████████████████████████████████████████| 250/250 [00:48<00:00,  5.15ba/s]\n",
      "100%|██████████████████████████████████████████████████████████████████████████████████| 32/32 [00:06<00:00,  5.29ba/s]\n",
      "100%|██████████████████████████████████████████████████████████████████████████████████| 32/32 [00:05<00:00,  5.42ba/s]\n"
     ]
    }
   ],
   "source": [
    "emotions_encoded.reset_format()\n",
    "\n",
    "def extract_hidden_states(batch):\n",
    "    # First convert text to tokens\n",
    "    inputs = tokenizer(batch[\"text\"], padding=True, \n",
    "                       truncation=True, return_tensors='tf')\n",
    "    # Extract last hidden states\n",
    "    outputs = tf_model(inputs)\n",
    "     # Return vector for [CLS] token\n",
    "    return {\"hidden_state\": outputs.last_hidden_state[:,0].numpy()}\n",
    "\n",
    "emotions_hidden = emotions_encoded.map(extract_hidden_states, batched=True, batch_size=64)"
   ]
  },
  {
   "cell_type": "code",
   "execution_count": 26,
   "metadata": {},
   "outputs": [
    {
     "data": {
      "text/plain": [
       "DatasetDict({\n",
       "    train: Dataset({\n",
       "        features: ['text', 'label', 'input_ids', 'attention_mask', 'hidden_state'],\n",
       "        num_rows: 16000\n",
       "    })\n",
       "    validation: Dataset({\n",
       "        features: ['text', 'label', 'input_ids', 'attention_mask', 'hidden_state'],\n",
       "        num_rows: 2000\n",
       "    })\n",
       "    test: Dataset({\n",
       "        features: ['text', 'label', 'input_ids', 'attention_mask', 'hidden_state'],\n",
       "        num_rows: 2000\n",
       "    })\n",
       "})"
      ]
     },
     "execution_count": 26,
     "metadata": {},
     "output_type": "execute_result"
    }
   ],
   "source": [
    "emotions_hidden"
   ]
  },
  {
   "cell_type": "markdown",
   "metadata": {},
   "source": [
    "#### 1.c Creating feature matrix"
   ]
  },
  {
   "cell_type": "markdown",
   "metadata": {},
   "source": [
    "The preprocessed dataset now contains all the information we need to train a classifier on it. We will use the hidden states as input features and the labels as targets. We can easily create the corresponding arrays in the well-known Scikit-learn format as follows."
   ]
  },
  {
   "cell_type": "code",
   "execution_count": 27,
   "metadata": {},
   "outputs": [
    {
     "data": {
      "text/plain": [
       "((16000, 768), (2000, 768))"
      ]
     },
     "execution_count": 27,
     "metadata": {},
     "output_type": "execute_result"
    }
   ],
   "source": [
    "import numpy as np\n",
    "X_train = np.array(emotions_hidden[\"train\"][\"hidden_state\"])\n",
    "X_valid = np.array(emotions_hidden[\"validation\"][\"hidden_state\"])\n",
    "y_train = np.array(emotions_hidden[\"train\"][\"label\"])\n",
    "y_valid = np.array(emotions_hidden[\"validation\"][\"label\"])\n",
    "X_train.shape, X_valid.shape\n"
   ]
  },
  {
   "cell_type": "markdown",
   "metadata": {},
   "source": [
    "#### Training with classifier"
   ]
  },
  {
   "cell_type": "markdown",
   "metadata": {},
   "source": [
    "Let us use the hidden states to train a logistic regression model with Scikit-learn."
   ]
  },
  {
   "cell_type": "code",
   "execution_count": 28,
   "metadata": {},
   "outputs": [
    {
     "name": "stderr",
     "output_type": "stream",
     "text": [
      "c:\\program files\\python37\\lib\\site-packages\\sklearn\\linear_model\\logistic.py:432: FutureWarning: Default solver will be changed to 'lbfgs' in 0.22. Specify a solver to silence this warning.\n",
      "  FutureWarning)\n",
      "c:\\program files\\python37\\lib\\site-packages\\sklearn\\linear_model\\logistic.py:469: FutureWarning: Default multi_class will be changed to 'auto' in 0.22. Specify the multi_class option to silence this warning.\n",
      "  \"this warning.\", FutureWarning)\n"
     ]
    },
    {
     "data": {
      "text/plain": [
       "0.6315"
      ]
     },
     "execution_count": 28,
     "metadata": {},
     "output_type": "execute_result"
    }
   ],
   "source": [
    "from sklearn.linear_model import LogisticRegression\n",
    "\n",
    "# We increase `max_iter` to guarantee convergence\n",
    "lr_clf = LogisticRegression(max_iter=3000)\n",
    "lr_clf.fit(X_train, y_train)\n",
    "lr_clf.score(X_valid, y_valid)"
   ]
  },
  {
   "cell_type": "code",
   "execution_count": 71,
   "metadata": {},
   "outputs": [],
   "source": [
    "from sklearn.metrics import confusion_matrix\n",
    "import seaborn as sns\n",
    "\n",
    "def plot_cm(y_true, y_pred, figsize=(15, 15)):\n",
    "    cm = confusion_matrix(y_true, y_pred, labels=np.unique(y_true))\n",
    "    cm_sum = np.sum(cm, axis=1, keepdims=True)\n",
    "    cm_perc = cm / cm_sum.astype(float) * 100\n",
    "    annot = np.empty_like(cm).astype(str)\n",
    "    nrows, ncols = cm.shape\n",
    "    for i in range(nrows):\n",
    "        for j in range(ncols):\n",
    "            c = cm[i, j]\n",
    "            p = cm_perc[i, j]\n",
    "            if i == j:\n",
    "                s = cm_sum[i]\n",
    "                annot[i, j] = '%.1f%%\\n%d/%d' % (p, c, s)\n",
    "            elif c == 0:\n",
    "                annot[i, j] = ''\n",
    "            else:\n",
    "                annot[i, j] = '%.1f%%\\n%d' % (p, c)\n",
    "    cm = pd.DataFrame(cm, index=np.unique(y_true), columns=np.unique(y_true))\n",
    "    cm.index.name = 'Actual'\n",
    "    cm.columns.name = 'Predicted'\n",
    "    fig, ax = plt.subplots(figsize=figsize)\n",
    "    sns.heatmap(cm, cmap= \"YlGnBu\", annot=annot, fmt='', ax=ax)\n",
    "    \n",
    "df_eval = pd.DataFrame({'y_true': y_valid, 'y_preds': y_preds})\n",
    "df_eval['y_true'] = (df_eval['y_true'].apply(label_int2str))\n",
    "df_eval['y_preds'] = (df_eval['y_preds'].apply(label_int2str))"
   ]
  },
  {
   "cell_type": "code",
   "execution_count": 70,
   "metadata": {},
   "outputs": [
    {
     "data": {
      "image/png": "[encoded data removed]",
      "text/plain": [
       "<Figure size 1080x1080 with 2 Axes>"
      ]
     },
     "metadata": {
      "needs_background": "light"
     },
     "output_type": "display_data"
    }
   ],
   "source": [
    "plot_cm(df_eval['y_true'], df_eval['y_preds'])"
   ]
  },
  {
   "cell_type": "markdown",
   "metadata": {},
   "source": [
    "### 2. Fine-tuning Transformers"
   ]
  },
  {
   "cell_type": "markdown",
   "metadata": {},
   "source": [
    "#### 2.a Loading a pretrained model"
   ]
  },
  {
   "cell_type": "code",
   "execution_count": 30,
   "metadata": {},
   "outputs": [
    {
     "name": "stderr",
     "output_type": "stream",
     "text": [
      "Some layers from the model checkpoint at distilbert-base-uncased were not used when initializing TFDistilBertForSequenceClassification: ['activation_13', 'vocab_projector', 'vocab_transform', 'vocab_layer_norm']\n",
      "- This IS expected if you are initializing TFDistilBertForSequenceClassification from the checkpoint of a model trained on another task or with another architecture (e.g. initializing a BertForSequenceClassification model from a BertForPreTraining model).\n",
      "- This IS NOT expected if you are initializing TFDistilBertForSequenceClassification from the checkpoint of a model that you expect to be exactly identical (initializing a BertForSequenceClassification model from a BertForSequenceClassification model).\n",
      "Some layers of TFDistilBertForSequenceClassification were not initialized from the model checkpoint at distilbert-base-uncased and are newly initialized: ['pre_classifier', 'classifier', 'dropout_38']\n",
      "You should probably TRAIN this model on a down-stream task to be able to use it for predictions and inference.\n"
     ]
    }
   ],
   "source": [
    "from transformers import TFAutoModelForSequenceClassification\n",
    "tf_model = (TFAutoModelForSequenceClassification.from_pretrained(model_ckpt, num_labels=6))"
   ]
  },
  {
   "cell_type": "markdown",
   "metadata": {},
   "source": [
    "Next, we'll convert our datasets into the _tf.data.Dataset_ format. Because we have already padded our tokenized inputs, we can do this conversion easily by applying the _to_tf_dataset()_ method to emotions_encoded:"
   ]
  },
  {
   "cell_type": "code",
   "execution_count": 31,
   "metadata": {},
   "outputs": [
    {
     "data": {
      "text/plain": [
       "<PrefetchDataset shapes: ({input_ids: (64, None), attention_mask: (64, None)}, (64,)), types: ({input_ids: tf.int64, attention_mask: tf.int64}, tf.int64)>"
      ]
     },
     "execution_count": 31,
     "metadata": {},
     "output_type": "execute_result"
    }
   ],
   "source": [
    "# The column names to convert to TensorFlow tensors\n",
    "from transformers import DataCollatorWithPadding\n",
    "\n",
    "tokenizer_columns = tokenizer.model_input_names\n",
    "\n",
    "# Define a batch size\n",
    "batch_size = 64\n",
    "\n",
    "data_collator = DataCollatorWithPadding(tokenizer=tokenizer, return_tensors=\"tf\")\n",
    "\n",
    "tf_train_dataset = emotions_encoded[\"train\"].to_tf_dataset(columns=tokenizer_columns, \n",
    "                                                           label_cols=[\"label\"], shuffle=True,\n",
    "                                                           batch_size=batch_size,\n",
    "                                                           collate_fn=data_collator)\n",
    "tf_eval_dataset = emotions_encoded[\"validation\"].to_tf_dataset(columns=tokenizer_columns, \n",
    "                                                               label_cols=[\"label\"], shuffle=False,\n",
    "                                                               batch_size=batch_size,\n",
    "                                                               collate_fn=data_collator)\n",
    "\n",
    "tf_train_dataset"
   ]
  },
  {
   "cell_type": "markdown",
   "metadata": {},
   "source": [
    "Here we’ve also shuffled the training set, and defined the batch size for it and the validation set. The last thing to do is compile and train the model:"
   ]
  },
  {
   "cell_type": "code",
   "execution_count": 32,
   "metadata": {},
   "outputs": [
    {
     "name": "stdout",
     "output_type": "stream",
     "text": [
      "Epoch 1/2\n",
      "WARNING:tensorflow:From c:\\program files\\python37\\lib\\site-packages\\tensorflow\\python\\ops\\array_ops.py:5049: calling gather (from tensorflow.python.ops.array_ops) with validate_indices is deprecated and will be removed in a future version.\n",
      "Instructions for updating:\n",
      "The `validate_indices` argument has no effect. Indices are always validated on CPU and never validated on GPU.\n",
      "250/250 [==============================] - 245s 914ms/step - loss: 0.5172 - sparse_categorical_accuracy: 0.8216 - val_loss: 0.1610 - val_sparse_categorical_accuracy: 0.9295\n",
      "Epoch 2/2\n",
      "250/250 [==============================] - 300s 1s/step - loss: 0.1467 - sparse_categorical_accuracy: 0.9372 - val_loss: 0.1493 - val_sparse_categorical_accuracy: 0.9330\n"
     ]
    },
    {
     "data": {
      "text/plain": [
       "<tensorflow.python.keras.callbacks.History at 0x1bdeb644ec8>"
      ]
     },
     "execution_count": 32,
     "metadata": {},
     "output_type": "execute_result"
    }
   ],
   "source": [
    "import tensorflow as tf\n",
    "\n",
    "tf_model.compile(optimizer=tf.keras.optimizers.Adam(learning_rate=5e-5),\n",
    "                 loss=tf.keras.losses.SparseCategoricalCrossentropy(from_logits=True),\n",
    "                 metrics=tf.metrics.SparseCategoricalAccuracy())\n",
    "\n",
    "tf_model.fit(tf_train_dataset, validation_data=tf_eval_dataset, epochs=2)"
   ]
  },
  {
   "cell_type": "markdown",
   "metadata": {},
   "source": [
    "#### Saving the model"
   ]
  },
  {
   "cell_type": "code",
   "execution_count": 35,
   "metadata": {},
   "outputs": [
    {
     "name": "stdout",
     "output_type": "stream",
     "text": [
      "WARNING:tensorflow:Skipping full serialization of Keras layer <tensorflow.python.keras.layers.core.Dropout object at 0x000001BCB3F6C308>, because it is not built.\n",
      "WARNING:tensorflow:Skipping full serialization of Keras layer <tensorflow.python.keras.layers.core.Dropout object at 0x000001BDEB55B708>, because it is not built.\n",
      "WARNING:tensorflow:Skipping full serialization of Keras layer <tensorflow.python.keras.layers.core.Dropout object at 0x000001BDEB56AB08>, because it is not built.\n",
      "WARNING:tensorflow:Skipping full serialization of Keras layer <tensorflow.python.keras.layers.core.Dropout object at 0x000001BDEB575FC8>, because it is not built.\n",
      "WARNING:tensorflow:Skipping full serialization of Keras layer <tensorflow.python.keras.layers.core.Dropout object at 0x000001BDEB584488>, because it is not built.\n",
      "WARNING:tensorflow:Skipping full serialization of Keras layer <tensorflow.python.keras.layers.core.Dropout object at 0x000001BDEB590988>, because it is not built.\n"
     ]
    },
    {
     "name": "stderr",
     "output_type": "stream",
     "text": [
      "WARNING:absl:Found untraced functions such as embeddings_layer_call_fn, embeddings_layer_call_and_return_conditional_losses, transformer_layer_call_fn, transformer_layer_call_and_return_conditional_losses, LayerNorm_layer_call_fn while saving (showing 5 of 410). These functions will not be directly callable after loading.\n"
     ]
    },
    {
     "name": "stdout",
     "output_type": "stream",
     "text": [
      "INFO:tensorflow:Assets written to: my_model\\assets\n"
     ]
    },
    {
     "name": "stderr",
     "output_type": "stream",
     "text": [
      "INFO:tensorflow:Assets written to: my_model\\assets\n"
     ]
    }
   ],
   "source": [
    "tf.keras.models.save_model(tf_model, filepath='my_model', overwrite=True, save_format='tf')"
   ]
  },
  {
   "cell_type": "code",
   "execution_count": 37,
   "metadata": {},
   "outputs": [
    {
     "name": "stdout",
     "output_type": "stream",
     "text": [
      "32/32 [==============================] - 7s 225ms/step - loss: 0.1493 - sparse_categorical_accuracy: 0.9330\n",
      "Loss: 0.14925077557563782\t Test Accuracy: 0.9330000281333923\n"
     ]
    }
   ],
   "source": [
    "loss, eval_accuracy = tf_model.evaluate(tf_eval_dataset)\n",
    "print(\"Loss: {}\\t Test Accuracy: {}\".format(loss, eval_accuracy))"
   ]
  },
  {
   "cell_type": "markdown",
   "metadata": {},
   "source": [
    "#### Prediction on evaluation set"
   ]
  },
  {
   "cell_type": "code",
   "execution_count": 58,
   "metadata": {},
   "outputs": [],
   "source": [
    "output_logits = tf_model.predict(tf_eval_dataset).logits\n",
    "pred_labels = np.argmax(output_logits, axis=-1)"
   ]
  },
  {
   "cell_type": "code",
   "execution_count": 61,
   "metadata": {},
   "outputs": [],
   "source": [
    "emotions_encoded.set_format(\"pandas\") \n",
    "cols = [\"text\", \"label\"]\n",
    "df_test = emotions_encoded[\"validation\"][:][cols] \n",
    "df_test[\"label\"] = df_test[\"label\"].apply(label_int2str)\n",
    "df_test[\"predicted_label\"] = pred_labels\n",
    "df_test[\"predicted_label\"] = (df_test[\"predicted_label\"].apply(label_int2str))"
   ]
  },
  {
   "cell_type": "code",
   "execution_count": 63,
   "metadata": {},
   "outputs": [
    {
     "data": {
      "text/html": [
       "<div>\n",
       "<style scoped>\n",
       "    .dataframe tbody tr th:only-of-type {\n",
       "        vertical-align: middle;\n",
       "    }\n",
       "\n",
       "    .dataframe tbody tr th {\n",
       "        vertical-align: top;\n",
       "    }\n",
       "\n",
       "    .dataframe thead th {\n",
       "        text-align: right;\n",
       "    }\n",
       "</style>\n",
       "<table border=\"1\" class=\"dataframe\">\n",
       "  <thead>\n",
       "    <tr style=\"text-align: right;\">\n",
       "      <th></th>\n",
       "      <th>text</th>\n",
       "      <th>label</th>\n",
       "      <th>predicted_label</th>\n",
       "    </tr>\n",
       "  </thead>\n",
       "  <tbody>\n",
       "    <tr>\n",
       "      <td>70</td>\n",
       "      <td>i have a feeling that was because we opted to ...</td>\n",
       "      <td>joy</td>\n",
       "      <td>joy</td>\n",
       "    </tr>\n",
       "    <tr>\n",
       "      <td>758</td>\n",
       "      <td>i love that giddy feeling of finding someone a...</td>\n",
       "      <td>joy</td>\n",
       "      <td>joy</td>\n",
       "    </tr>\n",
       "    <tr>\n",
       "      <td>914</td>\n",
       "      <td>i want to share what happened when i asked my ...</td>\n",
       "      <td>sadness</td>\n",
       "      <td>sadness</td>\n",
       "    </tr>\n",
       "    <tr>\n",
       "      <td>1455</td>\n",
       "      <td>i have had i feel like there is not too much i...</td>\n",
       "      <td>joy</td>\n",
       "      <td>joy</td>\n",
       "    </tr>\n",
       "  </tbody>\n",
       "</table>\n",
       "</div>"
      ],
      "text/plain": [
       "                                                   text    label  \\\n",
       "70    i have a feeling that was because we opted to ...      joy   \n",
       "758   i love that giddy feeling of finding someone a...      joy   \n",
       "914   i want to share what happened when i asked my ...  sadness   \n",
       "1455  i have had i feel like there is not too much i...      joy   \n",
       "\n",
       "     predicted_label  \n",
       "70               joy  \n",
       "758              joy  \n",
       "914          sadness  \n",
       "1455             joy  "
      ]
     },
     "execution_count": 63,
     "metadata": {},
     "output_type": "execute_result"
    }
   ],
   "source": [
    "df_test.sample(4)"
   ]
  },
  {
   "cell_type": "code",
   "execution_count": 64,
   "metadata": {},
   "outputs": [
    {
     "data": {
      "text/plain": [
       "array([[249,   5,   4,   0,  17,   0],\n",
       "       [  4, 194,   1,   0,  13,   0],\n",
       "       [  0,   2, 644,  46,   4,   8],\n",
       "       [  1,   0,   5, 171,   1,   0],\n",
       "       [  3,   2,   1,   1, 543,   0],\n",
       "       [  0,  14,   0,   1,   1,  65]], dtype=int64)"
      ]
     },
     "execution_count": 64,
     "metadata": {},
     "output_type": "execute_result"
    }
   ],
   "source": [
    "confusion_matrix(df_test.label, df_test.predicted_label)"
   ]
  },
  {
   "cell_type": "code",
   "execution_count": 66,
   "metadata": {},
   "outputs": [
    {
     "data": {
      "image/png": "[encoded data removed]",
      "text/plain": [
       "<Figure size 1080x1080 with 2 Axes>"
      ]
     },
     "metadata": {
      "needs_background": "light"
     },
     "output_type": "display_data"
    }
   ],
   "source": [
    "plot_cm(df_test.label, df_test.predicted_label)"
   ]
  },
  {
   "cell_type": "code",
   "execution_count": null,
   "metadata": {},
   "outputs": [],
   "source": []
  }
 ],
 "metadata": {
  "kernelspec": {
   "display_name": "Python 3",
   "language": "python",
   "name": "python3"
  },
  "language_info": {
   "codemirror_mode": {
    "name": "ipython",
    "version": 3
   },
   "file_extension": ".py",
   "mimetype": "text/x-python",
   "name": "python",
   "nbconvert_exporter": "python",
   "pygments_lexer": "ipython3",
   "version": "3.7.4"
  }
 },
 "nbformat": 4,
 "nbformat_minor": 2
}
